{
 "cells": [
  {
   "cell_type": "markdown",
   "metadata": {},
   "source": [
    "<h1><strong>Program to perfom text analytics, NLP, Sentiment Analysis on the drug reviews</strong></h1>"
   ]
  },
  {
   "cell_type": "code",
   "execution_count": 1,
   "metadata": {},
   "outputs": [],
   "source": [
    "import pandas as pd\n",
    "import numpy as np\n",
    "import time\n",
    "import matplotlib.pyplot as plt\n",
    "import re\n",
    "import logging\n",
    "\n",
    "# Set the jupyter notebook options to display more text \n",
    "pd.set_option('display.width', 1000)\n",
    "pd.set_option('display.max_colwidth', 1000)\n",
    "\n",
    "# Set log\n",
    "logging.basicConfig(format='%(asctime)s : %(levelname)s : %(message)s', level=logging.INFO)"
   ]
  },
  {
   "cell_type": "code",
   "execution_count": 2,
   "metadata": {},
   "outputs": [],
   "source": [
    "# Read the tsv with training data and testing data \n",
    "df_train = pd.read_table(\"drugsCom_raw\\drugsComTrain_raw.tsv\")\n",
    "df_test = pd.read_table(\"drugsCom_raw\\drugsComTest_raw.tsv\")\n",
    "\n",
    "df = pd.concat([df_train, df_test])"
   ]
  },
  {
   "cell_type": "code",
   "execution_count": 3,
   "metadata": {},
   "outputs": [
    {
     "data": {
      "text/html": [
       "<div>\n",
       "<style scoped>\n",
       "    .dataframe tbody tr th:only-of-type {\n",
       "        vertical-align: middle;\n",
       "    }\n",
       "\n",
       "    .dataframe tbody tr th {\n",
       "        vertical-align: top;\n",
       "    }\n",
       "\n",
       "    .dataframe thead th {\n",
       "        text-align: right;\n",
       "    }\n",
       "</style>\n",
       "<table border=\"1\" class=\"dataframe\">\n",
       "  <thead>\n",
       "    <tr style=\"text-align: right;\">\n",
       "      <th></th>\n",
       "      <th>Unnamed: 0</th>\n",
       "      <th>drugName</th>\n",
       "      <th>condition</th>\n",
       "      <th>review</th>\n",
       "      <th>rating</th>\n",
       "      <th>date</th>\n",
       "      <th>usefulCount</th>\n",
       "    </tr>\n",
       "  </thead>\n",
       "  <tbody>\n",
       "    <tr>\n",
       "      <th>0</th>\n",
       "      <td>206461</td>\n",
       "      <td>Valsartan</td>\n",
       "      <td>Left Ventricular Dysfunction</td>\n",
       "      <td>\"It has no side effect, I take it in combination of Bystolic 5 Mg and Fish Oil\"</td>\n",
       "      <td>9.0</td>\n",
       "      <td>May 20, 2012</td>\n",
       "      <td>27</td>\n",
       "    </tr>\n",
       "    <tr>\n",
       "      <th>1</th>\n",
       "      <td>95260</td>\n",
       "      <td>Guanfacine</td>\n",
       "      <td>ADHD</td>\n",
       "      <td>\"My son is halfway through his fourth week of Intuniv. We became concerned when he began this last week, when he started taking the highest dose he will be on. For two days, he could hardly get out of bed, was very cranky, and slept for nearly 8 hours on a drive home from school vacation (very unusual for him.) I called his doctor on Monday morning and she said to stick it out a few days. See how he did at school, and with getting up in the morning. The last two days have been problem free. He is MUCH more agreeable than ever. He is less emotional (a good thing), less cranky. He is remembering all the things he should. Overall his behavior is better. \\r\\nWe have tried many different medications and so far this is the most effective.\"</td>\n",
       "      <td>8.0</td>\n",
       "      <td>April 27, 2010</td>\n",
       "      <td>192</td>\n",
       "    </tr>\n",
       "  </tbody>\n",
       "</table>\n",
       "</div>"
      ],
      "text/plain": [
       "   Unnamed: 0    drugName                     condition                                                                                                                                                                                                                                                                                                                                                                                                                                                                                                                                                                                                                                                                                                                                                                   review  rating            date  usefulCount\n",
       "0      206461   Valsartan  Left Ventricular Dysfunction                                                                                                                                                                                                                                                                                                                                                                                                                                                                                                                                                                                                                                                                                          \"It has no side effect, I take it in combination of Bystolic 5 Mg and Fish Oil\"     9.0    May 20, 2012           27\n",
       "1       95260  Guanfacine                          ADHD  \"My son is halfway through his fourth week of Intuniv. We became concerned when he began this last week, when he started taking the highest dose he will be on. For two days, he could hardly get out of bed, was very cranky, and slept for nearly 8 hours on a drive home from school vacation (very unusual for him.) I called his doctor on Monday morning and she said to stick it out a few days. See how he did at school, and with getting up in the morning. The last two days have been problem free. He is MUCH more agreeable than ever. He is less emotional (a good thing), less cranky. He is remembering all the things he should. Overall his behavior is better. \\r\\nWe have tried many different medications and so far this is the most effective.\"     8.0  April 27, 2010          192"
      ]
     },
     "execution_count": 3,
     "metadata": {},
     "output_type": "execute_result"
    }
   ],
   "source": [
    "df.head(2)"
   ]
  },
  {
   "cell_type": "code",
   "execution_count": 4,
   "metadata": {},
   "outputs": [
    {
     "name": "stdout",
     "output_type": "stream",
     "text": [
      "<class 'pandas.core.frame.DataFrame'>\n",
      "Int64Index: 215063 entries, 0 to 53765\n",
      "Data columns (total 7 columns):\n",
      "Unnamed: 0     215063 non-null int64\n",
      "drugName       215063 non-null object\n",
      "condition      213869 non-null object\n",
      "review         215063 non-null object\n",
      "rating         215063 non-null float64\n",
      "date           215063 non-null object\n",
      "usefulCount    215063 non-null int64\n",
      "dtypes: float64(1), int64(2), object(4)\n",
      "memory usage: 13.1+ MB\n"
     ]
    }
   ],
   "source": [
    "df.info()"
   ]
  },
  {
   "cell_type": "code",
   "execution_count": 5,
   "metadata": {},
   "outputs": [
    {
     "name": "stdout",
     "output_type": "stream",
     "text": [
      "Duplicate rows in 'review' column :  86585\n"
     ]
    }
   ],
   "source": [
    "# Rename the unnamed column to ID column\n",
    "df = df.rename(columns={'Unnamed: 0':'id'})\n",
    "\n",
    "# Number of duplicates in review column \n",
    "dups = df['review'].duplicated().sum()\n",
    "print(\"Duplicate rows in 'review' column : \", dups)"
   ]
  },
  {
   "cell_type": "code",
   "execution_count": 6,
   "metadata": {},
   "outputs": [
    {
     "data": {
      "text/html": [
       "<div>\n",
       "<style scoped>\n",
       "    .dataframe tbody tr th:only-of-type {\n",
       "        vertical-align: middle;\n",
       "    }\n",
       "\n",
       "    .dataframe tbody tr th {\n",
       "        vertical-align: top;\n",
       "    }\n",
       "\n",
       "    .dataframe thead th {\n",
       "        text-align: right;\n",
       "    }\n",
       "</style>\n",
       "<table border=\"1\" class=\"dataframe\">\n",
       "  <thead>\n",
       "    <tr style=\"text-align: right;\">\n",
       "      <th></th>\n",
       "      <th>id</th>\n",
       "      <th>drugName</th>\n",
       "      <th>condition</th>\n",
       "      <th>review</th>\n",
       "      <th>rating</th>\n",
       "      <th>date</th>\n",
       "      <th>usefulCount</th>\n",
       "      <th>label</th>\n",
       "    </tr>\n",
       "  </thead>\n",
       "  <tbody>\n",
       "    <tr>\n",
       "      <th>0</th>\n",
       "      <td>206461</td>\n",
       "      <td>Valsartan</td>\n",
       "      <td>Left Ventricular Dysfunction</td>\n",
       "      <td>\"It has no side effect, I take it in combination of Bystolic 5 Mg and Fish Oil\"</td>\n",
       "      <td>9.0</td>\n",
       "      <td>May 20, 2012</td>\n",
       "      <td>27</td>\n",
       "      <td>1</td>\n",
       "    </tr>\n",
       "    <tr>\n",
       "      <th>1</th>\n",
       "      <td>95260</td>\n",
       "      <td>Guanfacine</td>\n",
       "      <td>ADHD</td>\n",
       "      <td>\"My son is halfway through his fourth week of Intuniv. We became concerned when he began this last week, when he started taking the highest dose he will be on. For two days, he could hardly get out of bed, was very cranky, and slept for nearly 8 hours on a drive home from school vacation (very unusual for him.) I called his doctor on Monday morning and she said to stick it out a few days. See how he did at school, and with getting up in the morning. The last two days have been problem free. He is MUCH more agreeable than ever. He is less emotional (a good thing), less cranky. He is remembering all the things he should. Overall his behavior is better. \\r\\nWe have tried many different medications and so far this is the most effective.\"</td>\n",
       "      <td>8.0</td>\n",
       "      <td>April 27, 2010</td>\n",
       "      <td>192</td>\n",
       "      <td>1</td>\n",
       "    </tr>\n",
       "  </tbody>\n",
       "</table>\n",
       "</div>"
      ],
      "text/plain": [
       "       id    drugName                     condition                                                                                                                                                                                                                                                                                                                                                                                                                                                                                                                                                                                                                                                                                                                                                                   review  rating            date  usefulCount  label\n",
       "0  206461   Valsartan  Left Ventricular Dysfunction                                                                                                                                                                                                                                                                                                                                                                                                                                                                                                                                                                                                                                                                                          \"It has no side effect, I take it in combination of Bystolic 5 Mg and Fish Oil\"     9.0    May 20, 2012           27      1\n",
       "1   95260  Guanfacine                          ADHD  \"My son is halfway through his fourth week of Intuniv. We became concerned when he began this last week, when he started taking the highest dose he will be on. For two days, he could hardly get out of bed, was very cranky, and slept for nearly 8 hours on a drive home from school vacation (very unusual for him.) I called his doctor on Monday morning and she said to stick it out a few days. See how he did at school, and with getting up in the morning. The last two days have been problem free. He is MUCH more agreeable than ever. He is less emotional (a good thing), less cranky. He is remembering all the things he should. Overall his behavior is better. \\r\\nWe have tried many different medications and so far this is the most effective.\"     8.0  April 27, 2010          192      1"
      ]
     },
     "execution_count": 6,
     "metadata": {},
     "output_type": "execute_result"
    }
   ],
   "source": [
    "# Create a label column creating 2 classes (negative and positive) for all ratings\n",
    "df['label'] = df['rating'].apply(lambda x: 0 if x <=5 else 1)\n",
    "df.head(2)"
   ]
  },
  {
   "cell_type": "code",
   "execution_count": 7,
   "metadata": {},
   "outputs": [
    {
     "data": {
      "text/plain": [
       "1    150768\n",
       "0     64295\n",
       "Name: label, dtype: int64"
      ]
     },
     "execution_count": 7,
     "metadata": {},
     "output_type": "execute_result"
    }
   ],
   "source": [
    "# Get the total values for each lable\n",
    "df['label'].value_counts()"
   ]
  },
  {
   "cell_type": "markdown",
   "metadata": {},
   "source": [
    "<h2><strong>Implementing NLP</strong></h2>\n",
    "<h3><strong>Implementing Bag of Words embedding with Decision Trees and Random Forests</strong></h3>\n"
   ]
  },
  {
   "cell_type": "code",
   "execution_count": 8,
   "metadata": {},
   "outputs": [
    {
     "name": "stdout",
     "output_type": "stream",
     "text": [
      "0                                                                                                                                                                                                                                                                                                                                                                                                                                                                                                                                                                                                                                                                    It has no side effect I take it in combination of Bystolic Mg and Fish Oil\n",
      "1    My son is halfway through his fourth week of Intuniv We became concerned when he began this last week when he started taking the highest dose he will be on For two days he could hardly get out of bed was very cranky and slept for nearly hours on a drive home from school vacation very unusual for him I called his doctor on Monday morning and she said to stick it out a few days See how he did at school and with getting up in the morning The last two days have been problem free He is MUCH more agreeable than ever He is less emotional a good thing less cranky He is remembering all the things he should Overall his behavior is better We have tried many different medications and so far this is the most effective\n",
      "2     I used to take another oral contraceptive which had pill cycle and was very happy  very light periods max days no other side effects But it contained hormone gestodene which is not available in US so I switched to Lybrel because the ingredients are similar When my other pills ended I started Lybrel immediately on my first day of period as the instructions said And the period lasted for two weeks When taking the second pack  same two weeks And now with third pack things got even worse  my third period lasted for two weeks and now its the end of the third week  I still have daily brown discharge The positive side is that I didnt have any other side effects The idea of being period free was so tempting Alas\n",
      "Name: review, dtype: object\n",
      "Wall time: 1min 4s\n"
     ]
    }
   ],
   "source": [
    "%%time\n",
    "\n",
    "# Perform some basic cleansing\n",
    "rx_pat = r\"(\\\\r)|(\\\\n)|(\\\\t)|(\\\\f)|(\\.)|(\\;)|(\\:)|(\\!)|(\\')|(\\?)|(\\,)|(\\\")|(\\()|(\\))|(\\[)|(\\])|(&#039;)|(&quot;)|(\\d\\s)|(\\d)|(\\/)\"\n",
    "rx_pat_wSpace = r\"(\\-)|(\\\\)|(\\s{2,})\"\n",
    "    \n",
    "df['review'].replace(regex=True,inplace=True,to_replace=rx_pat, value=r'')\n",
    "df['review'].replace(regex=True,inplace=True,to_replace=rx_pat_wSpace, value=r' ')\n",
    "df['reivew'] = df.review.str.lower()\n",
    "\n",
    "print(df.review.head(3))"
   ]
  },
  {
   "cell_type": "code",
   "execution_count": 9,
   "metadata": {},
   "outputs": [
    {
     "name": "stdout",
     "output_type": "stream",
     "text": [
      "Wall time: 19.4 s\n"
     ]
    }
   ],
   "source": [
    "%%time\n",
    "\n",
    "# Creating Vectors using bag of words embedding\n",
    "# Each word becomes one feature (column)\n",
    "from sklearn.feature_extraction.text import CountVectorizer\n",
    "\n",
    "cv = CountVectorizer(binary=True)\n",
    "\n",
    "# Creating a sparse matrix \n",
    "X = cv.fit_transform(df['review'])\n",
    "\n",
    "y = df.label"
   ]
  },
  {
   "cell_type": "code",
   "execution_count": 10,
   "metadata": {},
   "outputs": [
    {
     "data": {
      "text/plain": [
       "215063"
      ]
     },
     "execution_count": 10,
     "metadata": {},
     "output_type": "execute_result"
    }
   ],
   "source": [
    "# Check X\n",
    "X\n",
    "\n",
    "np.size(X, 0)"
   ]
  },
  {
   "cell_type": "code",
   "execution_count": 11,
   "metadata": {},
   "outputs": [
    {
     "data": {
      "text/plain": [
       "215063"
      ]
     },
     "execution_count": 11,
     "metadata": {},
     "output_type": "execute_result"
    }
   ],
   "source": [
    "# Check y\n",
    "y = np.asarray(y)\n",
    "\n",
    "np.size(y, 0)"
   ]
  },
  {
   "cell_type": "code",
   "execution_count": 12,
   "metadata": {},
   "outputs": [],
   "source": [
    "from sklearn import tree\n",
    "from sklearn.model_selection import train_test_split\n",
    "\n",
    "# Create the Decision Tree classifier model \n",
    "clf = tree.DecisionTreeClassifier()\n",
    "\n",
    "# Split the dataset into train and test \n",
    "X_train, X_test, y_train, y_test = train_test_split(X, y, test_size=0.2, random_state=42)"
   ]
  },
  {
   "cell_type": "code",
   "execution_count": 13,
   "metadata": {},
   "outputs": [
    {
     "name": "stdout",
     "output_type": "stream",
     "text": [
      "Wall time: 7min 36s\n"
     ]
    }
   ],
   "source": [
    "%%time\n",
    "\n",
    "# Train the model\n",
    "clf_model = clf.fit(X_train, y_train)"
   ]
  },
  {
   "cell_type": "code",
   "execution_count": 14,
   "metadata": {},
   "outputs": [
    {
     "name": "stdout",
     "output_type": "stream",
     "text": [
      "Wall time: 145 ms\n"
     ]
    }
   ],
   "source": [
    "%%time \n",
    "\n",
    "# Perform predictions using the trained classifier\n",
    "y_pred = clf_model.predict(X_test)"
   ]
  },
  {
   "cell_type": "code",
   "execution_count": 15,
   "metadata": {},
   "outputs": [
    {
     "name": "stdout",
     "output_type": "stream",
     "text": [
      "Accuracy  score:  0.8940320368260758\n"
     ]
    }
   ],
   "source": [
    "# Test the accuracy \n",
    "from sklearn.metrics import accuracy_score\n",
    "\n",
    "print (\"Accuracy  score: \", accuracy_score(y_test, y_pred))"
   ]
  },
  {
   "cell_type": "code",
   "execution_count": 16,
   "metadata": {},
   "outputs": [
    {
     "name": "stdout",
     "output_type": "stream",
     "text": [
      "              precision    recall  f1-score   support\n",
      "\n",
      "    Negative       0.83      0.81      0.82     12940\n",
      "    Positive       0.92      0.93      0.92     30073\n",
      "\n",
      "   micro avg       0.89      0.89      0.89     43013\n",
      "   macro avg       0.88      0.87      0.87     43013\n",
      "weighted avg       0.89      0.89      0.89     43013\n",
      "\n",
      "[[10546  2394]\n",
      " [ 2164 27909]]\n",
      "\n",
      "True Negatives: 10546\n",
      "False Positives: 2394\n",
      "False Negatives: 2164\n",
      "True Positives: 27909\n"
     ]
    }
   ],
   "source": [
    "# Classification Report \n",
    "from sklearn.metrics import classification_report, confusion_matrix\n",
    "\n",
    "print(classification_report(y_test, y_pred, target_names=[\"Negative\", \"Positive\"]))\n",
    "print(confusion_matrix(y_test, y_pred, ))\n",
    "\n",
    "tn, fp, fn, tp = confusion_matrix(y_test, y_pred).ravel()\n",
    "# (tn, fp, fn, tp)\n",
    "\n",
    "print(f\"\\nTrue Negatives: {tn}\\nFalse Positives: {fp}\\nFalse Negatives: {fn}\\nTrue Positives: {tp}\")"
   ]
  },
  {
   "cell_type": "code",
   "execution_count": 17,
   "metadata": {},
   "outputs": [
    {
     "data": {
      "text/plain": [
       "<matplotlib.axes._subplots.AxesSubplot at 0x4220331588>"
      ]
     },
     "execution_count": 17,
     "metadata": {},
     "output_type": "execute_result"
    },
    {
     "data": {
      "image/png": "[encoded data removed]",
      "text/plain": [
       "<Figure size 720x504 with 2 Axes>"
      ]
     },
     "metadata": {},
     "output_type": "display_data"
    }
   ],
   "source": [
    "# Lets plot the confusion matrix \n",
    "import seaborn as sn\n",
    "\n",
    "cm = confusion_matrix(y_test, y_pred)\n",
    "# Create labels \n",
    "labels = [\"Positive\" if label == 0 else \"Negative\" for label in df.label.unique()]\n",
    "\n",
    "sn.set(font_scale=1.4) # for font size \n",
    "df_cm = pd.DataFrame(cm, index = [i for i in labels], \n",
    "                    columns = [i for i in labels])\n",
    "\n",
    "plt.figure(figsize = (10,7))\n",
    "sn.heatmap(df_cm, annot=True, cmap=\"Blues\", fmt='g')"
   ]
  },
  {
   "cell_type": "code",
   "execution_count": 19,
   "metadata": {},
   "outputs": [
    {
     "name": "stdout",
     "output_type": "stream",
     "text": [
      "Wall time: 24min 24s\n"
     ]
    }
   ],
   "source": [
    "%%time\n",
    "\n",
    "# Implementing Random Forest Classifier \n",
    "from sklearn.ensemble import RandomForestClassifier\n",
    "\n",
    "## build Random forest model\n",
    "random_forest = RandomForestClassifier(n_estimators=100)\n",
    "\n",
    "## Train the classifiers\n",
    "# decision_tree.fit(X_train, y_train)\n",
    "random_forest.fit(X_train, y_train)\n",
    "\n"
   ]
  },
  {
   "cell_type": "code",
   "execution_count": 21,
   "metadata": {},
   "outputs": [],
   "source": [
    "# Create Predictions\n",
    "rf_pred = random_forest.predict(X_test)"
   ]
  },
  {
   "cell_type": "code",
   "execution_count": 22,
   "metadata": {},
   "outputs": [
    {
     "name": "stdout",
     "output_type": "stream",
     "text": [
      "Random Forest Model\n",
      "              precision    recall  f1-score   support\n",
      "\n",
      "    Negative       0.98      0.73      0.84     12940\n",
      "    Positive       0.90      0.99      0.94     30073\n",
      "\n",
      "   micro avg       0.91      0.91      0.91     43013\n",
      "   macro avg       0.94      0.86      0.89     43013\n",
      "weighted avg       0.92      0.91      0.91     43013\n",
      "\n",
      "Random Forest - Confusion Matrix:\n",
      " [[ 9439  3501]\n",
      " [  172 29901]]\n",
      "\n",
      "True Negatives: 9439\n",
      "False Positives: 3501\n",
      "False Negatives: 172\n",
      "True Positives: 29901\n",
      "\n",
      "Accuracy  score:  0.91\n"
     ]
    }
   ],
   "source": [
    "# Check the performance of the model\n",
    "print('Random Forest Model')\n",
    "print(classification_report(y_test, rf_pred, target_names=['Negative', 'Positive']))\n",
    "\n",
    "#Graph our confusion matrix\n",
    "rf_cm = confusion_matrix(y_test, rf_pred)\n",
    "print(\"Random Forest - Confusion Matrix:\\n\", rf_cm)\n",
    "\n",
    "# False and True\n",
    "tn, fp, fn, tp = confusion_matrix(y_test, rf_pred).ravel()\n",
    "# (tn, fp, fn, tp)\n",
    "\n",
    "print(f\"\\nTrue Negatives: {tn}\\nFalse Positives: {fp}\\nFalse Negatives: {fn}\\nTrue Positives: {tp}\")\n",
    "\n",
    "# Test the accuracy \n",
    "print (\"\\nAccuracy  score: \", round(accuracy_score(y_test, rf_pred), 2))"
   ]
  },
  {
   "cell_type": "code",
   "execution_count": 23,
   "metadata": {
    "scrolled": true
   },
   "outputs": [
    {
     "data": {
      "text/plain": [
       "<matplotlib.axes._subplots.AxesSubplot at 0x4220a43c50>"
      ]
     },
     "execution_count": 23,
     "metadata": {},
     "output_type": "execute_result"
    },
    {
     "data": {
      "image/png": "[encoded data removed]",
      "text/plain": [
       "<Figure size 720x504 with 2 Axes>"
      ]
     },
     "metadata": {},
     "output_type": "display_data"
    }
   ],
   "source": [
    "# Lets plot the confusion matrix \n",
    "import seaborn as sn\n",
    "\n",
    "cm = confusion_matrix(y_test, rf_pred)\n",
    "# Create labels \n",
    "labels = [\"Positive\" if label == 0 else \"Negative\" for label in df.label.unique()]\n",
    "\n",
    "sn.set(font_scale=1.4) # for font size \n",
    "df_cm = pd.DataFrame(cm, index = [i for i in labels], \n",
    "                    columns = [i for i in labels])\n",
    "\n",
    "plt.figure(figsize = (10,7))\n",
    "sn.heatmap(df_cm, annot=True, cmap=\"Blues\", fmt='g')"
   ]
  },
  {
   "cell_type": "markdown",
   "metadata": {},
   "source": [
    "<h3><strong>Save the Model</strong></h3>"
   ]
  },
  {
   "cell_type": "code",
   "execution_count": 24,
   "metadata": {},
   "outputs": [],
   "source": [
    "# save the random forest model to disk\n",
    "import pickle\n",
    "\n",
    "filename = 'finalized_2cls_rf_model.sav'\n",
    "pickle.dump(random_forest, open(filename, 'wb'))\n"
   ]
  },
  {
   "cell_type": "code",
   "execution_count": 25,
   "metadata": {},
   "outputs": [],
   "source": [
    "# save the decision tree model to disk\n",
    "import pickle\n",
    "\n",
    "filename = 'finalized_2cls_dt_model.sav'\n",
    "pickle.dump(clf_model, open(filename, 'wb'))\n"
   ]
  },
  {
   "cell_type": "code",
   "execution_count": null,
   "metadata": {},
   "outputs": [],
   "source": [
    "# load the models from disk\n",
    "clf_model = pickle.load(open('finalized_2cls_dt_model.sav', 'rb'))\n",
    "random_forest = pickle.load(open('finalized_2cls_rf_model.sav', 'rb'))"
   ]
  },
  {
   "cell_type": "markdown",
   "metadata": {},
   "source": [
    "<h3><strong>Run the model on new reviews</strong></h3>"
   ]
  },
  {
   "cell_type": "code",
   "execution_count": 18,
   "metadata": {
    "scrolled": true
   },
   "outputs": [],
   "source": [
    "# Let's test the model \n",
    "# Define a function to create a pipeline and run the predictions\n",
    "def classify(text, classifier='None'):\n",
    "    # Creating a sparse matrix \n",
    "    review_matrix = cv.transform([text])\n",
    "    if classifier.lower() == 'decision tree':\n",
    "        # Predict the outcome \n",
    "        y_prediction = clf_model.predict(review_matrix)\n",
    "    elif classifier.lower() == 'random forest':\n",
    "        y_prediction = random_forest.predict(review_matrix)\n",
    "    else:\n",
    "        return \"Wrong/No classifier selected\"       \n",
    "    \n",
    "    # Print the outcome\n",
    "    print(\"Positive\") if y_prediction else print(\"Negative\")\n",
    "    "
   ]
  },
  {
   "cell_type": "code",
   "execution_count": null,
   "metadata": {},
   "outputs": [],
   "source": [
    "# Positive test #1\n",
    "review = \"I feel better.\"\n",
    "# classifier = \"Decision Tree\"\n",
    "classifier = \"Random Forest\"\n",
    "classify(review, classifier)"
   ]
  },
  {
   "cell_type": "code",
   "execution_count": null,
   "metadata": {},
   "outputs": [],
   "source": [
    "# Positive test #2\n",
    "review = \"I still have pain.\"\n",
    "# classifier = \"Decision Tree\"\n",
    "classifier = \"Random Forest\"\n",
    "classify(review, classifier)"
   ]
  },
  {
   "cell_type": "code",
   "execution_count": null,
   "metadata": {},
   "outputs": [],
   "source": [
    "# Negative test #1\n",
    "review = \"I feel sick.\"\n",
    "classifier = \"Decision Tree\"\n",
    "# classifier = \"Random Forest\"\n",
    "classify(review, classifier)"
   ]
  },
  {
   "cell_type": "code",
   "execution_count": null,
   "metadata": {},
   "outputs": [],
   "source": [
    "# Negative test #2\n",
    "review = \"I am very unhappy\"\n",
    "# classifier = \"Decision Tree\"\n",
    "# classifier = \"Random Forest\"\n",
    "classify(review, classifier)"
   ]
  },
  {
   "cell_type": "code",
   "execution_count": null,
   "metadata": {},
   "outputs": [],
   "source": []
  }
 ],
 "metadata": {
  "kernelspec": {
   "display_name": "Python 3",
   "language": "python",
   "name": "python3"
  },
  "language_info": {
   "codemirror_mode": {
    "name": "ipython",
    "version": 3
   },
   "file_extension": ".py",
   "mimetype": "text/x-python",
   "name": "python",
   "nbconvert_exporter": "python",
   "pygments_lexer": "ipython3",
   "version": "3.7.1"
  }
 },
 "nbformat": 4,
 "nbformat_minor": 2
}
